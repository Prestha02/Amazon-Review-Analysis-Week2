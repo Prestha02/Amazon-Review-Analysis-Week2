{
  "nbformat": 4,
  "nbformat_minor": 0,
  "metadata": {
    "colab": {
      "provenance": [],
      "mount_file_id": "16HtflNHhdIylCi3-HivETbZEys1Vrg4v",
      "authorship_tag": "ABX9TyPSgINCXs/25lSQEseYqMHp",
      "include_colab_link": true
    },
    "kernelspec": {
      "name": "python3",
      "display_name": "Python 3"
    },
    "language_info": {
      "name": "python"
    }
  },
  "cells": [
    {
      "cell_type": "markdown",
      "metadata": {
        "id": "view-in-github",
        "colab_type": "text"
      },
      "source": [
        "<a href=\"https://colab.research.google.com/github/Prestha02/Amazon-Review-Analysis-Week2/blob/main/assignmentRNN.ipynb\" target=\"_parent\"><img src=\"https://colab.research.google.com/assets/colab-badge.svg\" alt=\"Open In Colab\"/></a>"
      ]
    },
    {
      "cell_type": "code",
      "execution_count": 28,
      "metadata": {
        "id": "B4_dvWG7qAu4"
      },
      "outputs": [],
      "source": [
        "import numpy as np\n",
        "import pandas as pd"
      ]
    },
    {
      "cell_type": "code",
      "source": [
        "sentences = [\"I enjoy reading good books,\" \"The weather looks very pleasant,\" \"She danced at the festival today,\"\n",
        "             \"Pizza always tastes so delicious,\" \"He missed his flight this morning,\" \"I won't recommend this movie,\"\n",
        "             \"Everyone should support animal shelters,\" \"We had fun by the riverside,\"\n",
        "             \"Honesty should define all politicians,\" \"Your garden is blooming with flowers.\"]"
      ],
      "metadata": {
        "id": "V5xt62_prBFq"
      },
      "execution_count": 29,
      "outputs": []
    },
    {
      "cell_type": "code",
      "source": [
        "label = [1, 0, 1, 0, 0, 0, 1, 1, 1, 1]"
      ],
      "metadata": {
        "id": "8-kkHNKhrqiU"
      },
      "execution_count": 30,
      "outputs": []
    },
    {
      "cell_type": "code",
      "source": [
        "from tensorflow.keras.preprocessing.text import Tokenizer"
      ],
      "metadata": {
        "id": "Q6Esh-IyocwH"
      },
      "execution_count": 31,
      "outputs": []
    },
    {
      "cell_type": "code",
      "source": [
        "from tensorflow.keras.preprocessing.sequence import pad_sequences"
      ],
      "metadata": {
        "id": "_pmZmzMJohsX"
      },
      "execution_count": 32,
      "outputs": []
    },
    {
      "cell_type": "code",
      "source": [
        "tokens = Tokenizer(oov_token = 'oov')\n",
        "tokens.fit_on_texts(sentences)"
      ],
      "metadata": {
        "id": "kklYWR-ZojU7"
      },
      "execution_count": 33,
      "outputs": []
    },
    {
      "cell_type": "code",
      "source": [
        "vocab = tokens.word_index"
      ],
      "metadata": {
        "id": "Afa_gRYyonLa"
      },
      "execution_count": 34,
      "outputs": []
    },
    {
      "cell_type": "code",
      "source": [
        "vocab"
      ],
      "metadata": {
        "colab": {
          "base_uri": "https://localhost:8080/"
        },
        "id": "CbqP5txcosi6",
        "outputId": "00d37ba8-8f21-4c08-f2d9-970dfdd7fadb"
      },
      "execution_count": 35,
      "outputs": [
        {
          "output_type": "execute_result",
          "data": {
            "text/plain": [
              "{'oov': 1,\n",
              " 'the': 2,\n",
              " 'i': 3,\n",
              " 'this': 4,\n",
              " 'should': 5,\n",
              " 'enjoy': 6,\n",
              " 'reading': 7,\n",
              " 'good': 8,\n",
              " 'books': 9,\n",
              " 'weather': 10,\n",
              " 'looks': 11,\n",
              " 'very': 12,\n",
              " 'pleasant': 13,\n",
              " 'she': 14,\n",
              " 'danced': 15,\n",
              " 'at': 16,\n",
              " 'festival': 17,\n",
              " 'today': 18,\n",
              " 'pizza': 19,\n",
              " 'always': 20,\n",
              " 'tastes': 21,\n",
              " 'so': 22,\n",
              " 'delicious': 23,\n",
              " 'he': 24,\n",
              " 'missed': 25,\n",
              " 'his': 26,\n",
              " 'flight': 27,\n",
              " 'morning': 28,\n",
              " \"won't\": 29,\n",
              " 'recommend': 30,\n",
              " 'movie': 31,\n",
              " 'everyone': 32,\n",
              " 'support': 33,\n",
              " 'animal': 34,\n",
              " 'shelters': 35,\n",
              " 'we': 36,\n",
              " 'had': 37,\n",
              " 'fun': 38,\n",
              " 'by': 39,\n",
              " 'riverside': 40,\n",
              " 'honesty': 41,\n",
              " 'define': 42,\n",
              " 'all': 43,\n",
              " 'politicians': 44,\n",
              " 'your': 45,\n",
              " 'garden': 46,\n",
              " 'is': 47,\n",
              " 'blooming': 48,\n",
              " 'with': 49,\n",
              " 'flowers': 50}"
            ]
          },
          "metadata": {},
          "execution_count": 35
        }
      ]
    },
    {
      "cell_type": "code",
      "source": [
        "sequence= tokens.texts_to_sequences(sentences)"
      ],
      "metadata": {
        "id": "fuT-AYoMowhw"
      },
      "execution_count": 36,
      "outputs": []
    },
    {
      "cell_type": "code",
      "source": [
        "sequence"
      ],
      "metadata": {
        "colab": {
          "base_uri": "https://localhost:8080/"
        },
        "id": "681wSrjTpFAu",
        "outputId": "5c96c324-ef95-4501-e42a-60eb5437e051"
      },
      "execution_count": 37,
      "outputs": [
        {
          "output_type": "execute_result",
          "data": {
            "text/plain": [
              "[[3,\n",
              "  6,\n",
              "  7,\n",
              "  8,\n",
              "  9,\n",
              "  2,\n",
              "  10,\n",
              "  11,\n",
              "  12,\n",
              "  13,\n",
              "  14,\n",
              "  15,\n",
              "  16,\n",
              "  2,\n",
              "  17,\n",
              "  18,\n",
              "  19,\n",
              "  20,\n",
              "  21,\n",
              "  22,\n",
              "  23,\n",
              "  24,\n",
              "  25,\n",
              "  26,\n",
              "  27,\n",
              "  4,\n",
              "  28,\n",
              "  3,\n",
              "  29,\n",
              "  30,\n",
              "  4,\n",
              "  31,\n",
              "  32,\n",
              "  5,\n",
              "  33,\n",
              "  34,\n",
              "  35,\n",
              "  36,\n",
              "  37,\n",
              "  38,\n",
              "  39,\n",
              "  2,\n",
              "  40,\n",
              "  41,\n",
              "  5,\n",
              "  42,\n",
              "  43,\n",
              "  44,\n",
              "  45,\n",
              "  46,\n",
              "  47,\n",
              "  48,\n",
              "  49,\n",
              "  50]]"
            ]
          },
          "metadata": {},
          "execution_count": 37
        }
      ]
    },
    {
      "cell_type": "code",
      "source": [
        "sequences = pad_sequences(sequence, maxlen=6, padding = 'post', truncating='post')"
      ],
      "metadata": {
        "id": "YZyrhxcUpNNJ"
      },
      "execution_count": 38,
      "outputs": []
    },
    {
      "cell_type": "code",
      "source": [
        "sequences"
      ],
      "metadata": {
        "colab": {
          "base_uri": "https://localhost:8080/"
        },
        "id": "mlZxe98gpREA",
        "outputId": "bf232d15-ecdc-4285-9929-caf7c444a4b4"
      },
      "execution_count": 39,
      "outputs": [
        {
          "output_type": "execute_result",
          "data": {
            "text/plain": [
              "array([[3, 6, 7, 8, 9, 2]], dtype=int32)"
            ]
          },
          "metadata": {},
          "execution_count": 39
        }
      ]
    },
    {
      "cell_type": "code",
      "source": [
        "sequences.shape"
      ],
      "metadata": {
        "colab": {
          "base_uri": "https://localhost:8080/"
        },
        "id": "97zJOjB3pjxR",
        "outputId": "56971f1c-343b-4d4a-f657-478764dec960"
      },
      "execution_count": 40,
      "outputs": [
        {
          "output_type": "execute_result",
          "data": {
            "text/plain": [
              "(1, 6)"
            ]
          },
          "metadata": {},
          "execution_count": 40
        }
      ]
    },
    {
      "cell_type": "code",
      "source": [
        " sequences.shape[0]"
      ],
      "metadata": {
        "id": "dJEYHgjPp19b",
        "outputId": "97559d65-38ed-4d71-e22c-7a1377575bb6",
        "colab": {
          "base_uri": "https://localhost:8080/"
        }
      },
      "execution_count": 41,
      "outputs": [
        {
          "output_type": "execute_result",
          "data": {
            "text/plain": [
              "1"
            ]
          },
          "metadata": {},
          "execution_count": 41
        }
      ]
    },
    {
      "cell_type": "code",
      "source": [
        "label = np.array(label).reshape(-1)"
      ],
      "metadata": {
        "id": "MG9225dzqIDG"
      },
      "execution_count": 42,
      "outputs": []
    },
    {
      "cell_type": "code",
      "source": [
        "from keras.models import Sequential\n",
        "from keras.layers import SimpleRNN,Dense"
      ],
      "metadata": {
        "id": "eULUAoI1qQaB"
      },
      "execution_count": 43,
      "outputs": []
    },
    {
      "cell_type": "code",
      "source": [
        "model = Sequential()"
      ],
      "metadata": {
        "id": "lT6S_raJqU-L"
      },
      "execution_count": 44,
      "outputs": []
    },
    {
      "cell_type": "code",
      "source": [
        "model.add(SimpleRNN(1, input_shape=(sequences.shape[1],1), activation = 'relu' ))\n",
        "model.add(Dense(1, activation = 'sigmoid'))"
      ],
      "metadata": {
        "colab": {
          "base_uri": "https://localhost:8080/"
        },
        "id": "VJvUZWI7rDH_",
        "outputId": "b17a988c-15f4-4d82-dd24-0482c0df64c8"
      },
      "execution_count": 45,
      "outputs": [
        {
          "output_type": "stream",
          "name": "stderr",
          "text": [
            "/usr/local/lib/python3.10/dist-packages/keras/src/layers/rnn/rnn.py:204: UserWarning: Do not pass an `input_shape`/`input_dim` argument to a layer. When using Sequential models, prefer using an `Input(shape)` object as the first layer in the model instead.\n",
            "  super().__init__(**kwargs)\n"
          ]
        }
      ]
    },
    {
      "cell_type": "code",
      "source": [
        "model.compile(optimizer = 'adam', loss = 'binary_crossentropy', metrics = ['accuracy'])"
      ],
      "metadata": {
        "id": "vzaYtZKJrR3f"
      },
      "execution_count": 47,
      "outputs": []
    },
    {
      "cell_type": "code",
      "source": [
        "import numpy as np\n",
        "\n",
        "# Assuming 'label' and 'sequences' are already defined\n",
        "\n",
        "# Reshape to add a dimension for features BEFORE repeating\n",
        "sequences = sequences.reshape(sequences.shape[0], sequences.shape[1], 1)\n",
        "\n",
        "# Repeat the sequences along the first axis (axis=0) to match the number of labels\n",
        "# Calculate the repetition factor based on label size and sequences size\n",
        "repeat_factor = label.shape[0] // sequences.shape[0]  # Integer division to get repeat count\n",
        "remainder = label.shape[0] % sequences.shape[0]  # Remainder if label size is not divisible by sequences size\n",
        "\n",
        "# Repeat the sequences and add remaining sequences if needed\n",
        "repeated_sequences = np.repeat(sequences, repeat_factor, axis=0)\n",
        "if remainder > 0:\n",
        "    repeated_sequences = np.concatenate([repeated_sequences, sequences[:remainder]], axis=0)\n",
        "\n",
        "# Assign the repeated sequences back to 'sequences'\n",
        "sequences = repeated_sequences\n",
        "\n",
        "# Now, 'sequences' and 'label' should have compatible shapes\n",
        "model.fit(sequences, label)"
      ],
      "metadata": {
        "colab": {
          "base_uri": "https://localhost:8080/"
        },
        "id": "nwpeA2OvrXOJ",
        "outputId": "413d4255-25c5-45cc-bedc-e3ec11c310be"
      },
      "execution_count": 52,
      "outputs": [
        {
          "output_type": "stream",
          "name": "stdout",
          "text": [
            "\u001b[1m1/1\u001b[0m \u001b[32m━━━━━━━━━━━━━━━━━━━━\u001b[0m\u001b[37m\u001b[0m \u001b[1m0s\u001b[0m 22ms/step - accuracy: 0.6000 - loss: 0.6930\n"
          ]
        },
        {
          "output_type": "execute_result",
          "data": {
            "text/plain": [
              "<keras.src.callbacks.history.History at 0x78fd7cd4aec0>"
            ]
          },
          "metadata": {},
          "execution_count": 52
        }
      ]
    },
    {
      "cell_type": "code",
      "source": [
        "test = ['We had fun by the riverside']"
      ],
      "metadata": {
        "id": "Lr0sy_2kxXo8"
      },
      "execution_count": 53,
      "outputs": []
    },
    {
      "cell_type": "code",
      "source": [
        "test = tokens.texts_to_sequences(test)"
      ],
      "metadata": {
        "id": "gDyUMSILxzea"
      },
      "execution_count": 54,
      "outputs": []
    },
    {
      "cell_type": "code",
      "source": [
        "test = pad_sequences(test, padding = 'post', truncating = 'post', maxlen = 6)"
      ],
      "metadata": {
        "id": "LHAejEgJx29T"
      },
      "execution_count": 55,
      "outputs": []
    },
    {
      "cell_type": "code",
      "source": [
        "test"
      ],
      "metadata": {
        "colab": {
          "base_uri": "https://localhost:8080/"
        },
        "id": "2zO2yQB6x6FE",
        "outputId": "0562fd7f-f6f1-467e-f342-f759b787b583"
      },
      "execution_count": 56,
      "outputs": [
        {
          "output_type": "execute_result",
          "data": {
            "text/plain": [
              "array([[36, 37, 38, 39,  2, 40]], dtype=int32)"
            ]
          },
          "metadata": {},
          "execution_count": 56
        }
      ]
    },
    {
      "cell_type": "code",
      "source": [
        "test.shape"
      ],
      "metadata": {
        "colab": {
          "base_uri": "https://localhost:8080/"
        },
        "id": "GxMtmllYx9Ug",
        "outputId": "44a74601-d56b-4e49-ac3d-574d773e0fc4"
      },
      "execution_count": 57,
      "outputs": [
        {
          "output_type": "execute_result",
          "data": {
            "text/plain": [
              "(1, 6)"
            ]
          },
          "metadata": {},
          "execution_count": 57
        }
      ]
    },
    {
      "cell_type": "code",
      "source": [
        "model.predict(test)"
      ],
      "metadata": {
        "colab": {
          "base_uri": "https://localhost:8080/"
        },
        "id": "_yTONUOKyETx",
        "outputId": "4a3a0afa-80ff-4c46-a02e-d163d3f48ad7"
      },
      "execution_count": 58,
      "outputs": [
        {
          "output_type": "stream",
          "name": "stdout",
          "text": [
            "\u001b[1m1/1\u001b[0m \u001b[32m━━━━━━━━━━━━━━━━━━━━\u001b[0m\u001b[37m\u001b[0m \u001b[1m0s\u001b[0m 123ms/step\n"
          ]
        },
        {
          "output_type": "execute_result",
          "data": {
            "text/plain": [
              "array([[0.5005]], dtype=float32)"
            ]
          },
          "metadata": {},
          "execution_count": 58
        }
      ]
    }
  ]
}